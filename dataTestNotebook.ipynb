{
 "cells": [
  {
   "cell_type": "code",
   "execution_count": 2,
   "metadata": {},
   "outputs": [],
   "source": [
    "import numpy as np\n",
    "import pandas as pd\n",
    "import matplotlib.pyplot as plt"
   ]
  },
  {
   "cell_type": "code",
   "execution_count": 6,
   "metadata": {},
   "outputs": [],
   "source": [
    "a = pd.Series(['1', '3', '5', '7'])"
   ]
  },
  {
   "cell_type": "code",
   "execution_count": 7,
   "metadata": {},
   "outputs": [
    {
     "data": {
      "text/plain": [
       "0    1\n",
       "1    3\n",
       "2    5\n",
       "3    7\n",
       "dtype: object"
      ]
     },
     "execution_count": 7,
     "metadata": {},
     "output_type": "execute_result"
    }
   ],
   "source": [
    "a"
   ]
  },
  {
   "cell_type": "code",
   "execution_count": 10,
   "metadata": {},
   "outputs": [],
   "source": [
    "b = pd.Series([2, 4, 6, 8, 10.0]) "
   ]
  },
  {
   "cell_type": "code",
   "execution_count": 11,
   "metadata": {},
   "outputs": [
    {
     "data": {
      "text/plain": [
       "0     2.0\n",
       "1     4.0\n",
       "2     6.0\n",
       "3     8.0\n",
       "4    10.0\n",
       "dtype: float64"
      ]
     },
     "execution_count": 11,
     "metadata": {},
     "output_type": "execute_result"
    }
   ],
   "source": [
    "b"
   ]
  },
  {
   "cell_type": "code",
   "execution_count": 12,
   "metadata": {},
   "outputs": [],
   "source": [
    "dates = pd.date_range('20110101', periods=12)"
   ]
  },
  {
   "cell_type": "code",
   "execution_count": 13,
   "metadata": {},
   "outputs": [
    {
     "data": {
      "text/plain": [
       "DatetimeIndex(['2011-01-01', '2011-01-02', '2011-01-03', '2011-01-04',\n",
       "               '2011-01-05', '2011-01-06', '2011-01-07', '2011-01-08',\n",
       "               '2011-01-09', '2011-01-10', '2011-01-11', '2011-01-12'],\n",
       "              dtype='datetime64[ns]', freq='D')"
      ]
     },
     "execution_count": 13,
     "metadata": {},
     "output_type": "execute_result"
    }
   ],
   "source": [
    "dates"
   ]
  },
  {
   "cell_type": "code",
   "execution_count": 21,
   "metadata": {},
   "outputs": [],
   "source": [
    "dateData = pd.DataFrame(np.random.randn(12, 4), index=dates, columns=list('ABCD'))"
   ]
  },
  {
   "cell_type": "code",
   "execution_count": 22,
   "metadata": {},
   "outputs": [],
   "source": [
    "#same as columns=['A', 'B', 'C', 'D'])"
   ]
  },
  {
   "cell_type": "code",
   "execution_count": 20,
   "metadata": {},
   "outputs": [
    {
     "data": {
      "text/html": [
       "<div>\n",
       "<style scoped>\n",
       "    .dataframe tbody tr th:only-of-type {\n",
       "        vertical-align: middle;\n",
       "    }\n",
       "\n",
       "    .dataframe tbody tr th {\n",
       "        vertical-align: top;\n",
       "    }\n",
       "\n",
       "    .dataframe thead th {\n",
       "        text-align: right;\n",
       "    }\n",
       "</style>\n",
       "<table border=\"1\" class=\"dataframe\">\n",
       "  <thead>\n",
       "    <tr style=\"text-align: right;\">\n",
       "      <th></th>\n",
       "      <th>A</th>\n",
       "      <th>B</th>\n",
       "      <th>C</th>\n",
       "      <th>D</th>\n",
       "    </tr>\n",
       "  </thead>\n",
       "  <tbody>\n",
       "    <tr>\n",
       "      <th>2011-01-01</th>\n",
       "      <td>1.468751</td>\n",
       "      <td>0.895262</td>\n",
       "      <td>-1.213243</td>\n",
       "      <td>0.398552</td>\n",
       "    </tr>\n",
       "    <tr>\n",
       "      <th>2011-01-02</th>\n",
       "      <td>0.032817</td>\n",
       "      <td>0.634890</td>\n",
       "      <td>0.070299</td>\n",
       "      <td>-1.426116</td>\n",
       "    </tr>\n",
       "    <tr>\n",
       "      <th>2011-01-03</th>\n",
       "      <td>-0.846242</td>\n",
       "      <td>-0.139230</td>\n",
       "      <td>-0.000515</td>\n",
       "      <td>-0.342681</td>\n",
       "    </tr>\n",
       "    <tr>\n",
       "      <th>2011-01-04</th>\n",
       "      <td>0.341077</td>\n",
       "      <td>0.665298</td>\n",
       "      <td>1.734951</td>\n",
       "      <td>-1.179740</td>\n",
       "    </tr>\n",
       "    <tr>\n",
       "      <th>2011-01-05</th>\n",
       "      <td>-1.617551</td>\n",
       "      <td>-1.473609</td>\n",
       "      <td>1.247872</td>\n",
       "      <td>-0.814646</td>\n",
       "    </tr>\n",
       "    <tr>\n",
       "      <th>2011-01-06</th>\n",
       "      <td>0.278333</td>\n",
       "      <td>0.089689</td>\n",
       "      <td>-0.493687</td>\n",
       "      <td>-0.765954</td>\n",
       "    </tr>\n",
       "    <tr>\n",
       "      <th>2011-01-07</th>\n",
       "      <td>-1.283356</td>\n",
       "      <td>-0.267160</td>\n",
       "      <td>-0.059229</td>\n",
       "      <td>0.546797</td>\n",
       "    </tr>\n",
       "    <tr>\n",
       "      <th>2011-01-08</th>\n",
       "      <td>-0.032853</td>\n",
       "      <td>-0.932797</td>\n",
       "      <td>-0.495633</td>\n",
       "      <td>2.266182</td>\n",
       "    </tr>\n",
       "    <tr>\n",
       "      <th>2011-01-09</th>\n",
       "      <td>1.405342</td>\n",
       "      <td>-0.717035</td>\n",
       "      <td>0.399151</td>\n",
       "      <td>1.237566</td>\n",
       "    </tr>\n",
       "    <tr>\n",
       "      <th>2011-01-10</th>\n",
       "      <td>0.564642</td>\n",
       "      <td>0.265456</td>\n",
       "      <td>0.007229</td>\n",
       "      <td>-0.473556</td>\n",
       "    </tr>\n",
       "    <tr>\n",
       "      <th>2011-01-11</th>\n",
       "      <td>0.067872</td>\n",
       "      <td>0.954485</td>\n",
       "      <td>0.333835</td>\n",
       "      <td>-0.114989</td>\n",
       "    </tr>\n",
       "    <tr>\n",
       "      <th>2011-01-12</th>\n",
       "      <td>0.085501</td>\n",
       "      <td>-1.876712</td>\n",
       "      <td>2.160213</td>\n",
       "      <td>0.202293</td>\n",
       "    </tr>\n",
       "  </tbody>\n",
       "</table>\n",
       "</div>"
      ],
      "text/plain": [
       "                   A         B         C         D\n",
       "2011-01-01  1.468751  0.895262 -1.213243  0.398552\n",
       "2011-01-02  0.032817  0.634890  0.070299 -1.426116\n",
       "2011-01-03 -0.846242 -0.139230 -0.000515 -0.342681\n",
       "2011-01-04  0.341077  0.665298  1.734951 -1.179740\n",
       "2011-01-05 -1.617551 -1.473609  1.247872 -0.814646\n",
       "2011-01-06  0.278333  0.089689 -0.493687 -0.765954\n",
       "2011-01-07 -1.283356 -0.267160 -0.059229  0.546797\n",
       "2011-01-08 -0.032853 -0.932797 -0.495633  2.266182\n",
       "2011-01-09  1.405342 -0.717035  0.399151  1.237566\n",
       "2011-01-10  0.564642  0.265456  0.007229 -0.473556\n",
       "2011-01-11  0.067872  0.954485  0.333835 -0.114989\n",
       "2011-01-12  0.085501 -1.876712  2.160213  0.202293"
      ]
     },
     "execution_count": 20,
     "metadata": {},
     "output_type": "execute_result"
    }
   ],
   "source": [
    "dateData"
   ]
  },
  {
   "cell_type": "code",
   "execution_count": null,
   "metadata": {},
   "outputs": [],
   "source": []
  }
 ],
 "metadata": {
  "kernelspec": {
   "display_name": "Python 3",
   "language": "python",
   "name": "python3"
  },
  "language_info": {
   "codemirror_mode": {
    "name": "ipython",
    "version": 3
   },
   "file_extension": ".py",
   "mimetype": "text/x-python",
   "name": "python",
   "nbconvert_exporter": "python",
   "pygments_lexer": "ipython3",
   "version": "3.7.1"
  }
 },
 "nbformat": 4,
 "nbformat_minor": 2
}
